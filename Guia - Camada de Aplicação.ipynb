{
 "cells": [
  {
   "cell_type": "markdown",
   "metadata": {},
   "source": [
    "\n",
    "\n",
    "# Guia da Camada de Aplicação\n",
    "### IMPORTANDO AS DEPENDÊNCIAS\n",
    "##### O documento tem o objetivo de demostrar o funcionamento da camada de aplicação, além de suas funções e ferramentas."
   ]
  },
  {
   "cell_type": "code",
   "execution_count": 1,
   "metadata": {},
   "outputs": [],
   "source": [
    "from quantumnet.components import Network, Host\n",
    "from quantumnet.objects import Qubit, Logger"
   ]
  },
  {
   "cell_type": "markdown",
   "metadata": {},
   "source": [
    "##### Instanciando a rede, e setando a topologia."
   ]
  },
  {
   "cell_type": "code",
   "execution_count": 2,
   "metadata": {},
   "outputs": [
    {
     "name": "stdout",
     "output_type": "stream",
     "text": [
      "Hosts inicializados\n",
      "Canais inicializados\n",
      "Pares EPRs adicionados\n"
     ]
    },
    {
     "data": {
      "image/png": "[encoded data removed]",
      "text/plain": [
       "<Figure size 640x480 with 1 Axes>"
      ]
     },
     "metadata": {},
     "output_type": "display_data"
    }
   ],
   "source": [
    "rede = Network()\n",
    "rede.set_ready_topology(\"Grade\", 3,3)\n",
    "rede.draw()\n",
    "Logger.activate(Logger)"
   ]
  },
  {
   "cell_type": "markdown",
   "metadata": {},
   "source": [
    "##### Definindo os hosts alice e bob nos nós 1 e 2 respectivamente."
   ]
  },
  {
   "cell_type": "code",
   "execution_count": 3,
   "metadata": {},
   "outputs": [],
   "source": [
    "alice = rede.get_host(3)\n",
    "bob = rede.get_host(8)\n"
   ]
  },
  {
   "cell_type": "markdown",
   "metadata": {},
   "source": [
    "##### Por meio da chamada da função qks_e91_protocol, passando os argumentos do ID de Alice, ID de Bob e o número de chaves que é pedido nessa requisição. Houve a transmissão das chaves. "
   ]
  },
  {
   "cell_type": "code",
   "execution_count": 4,
   "metadata": {},
   "outputs": [
    {
     "name": "stderr",
     "output_type": "stream",
     "text": [
      "2024-09-22 21:23:12,946: Iniciando protocolo E91 com 10 qubits.\n",
      "2024-09-22 21:23:12,947: Timeslot incrementado na função prepare_e91_qubits: 1\n",
      "2024-09-22 21:23:12,947: Qubits preparados com a chave: [0, 1, 0, 0, 1, 0, 0, 0, 1, 1] e bases: [1, 1, 1, 1, 1, 1, 0, 0, 0, 0]\n",
      "2024-09-22 21:23:12,948: Tentativa 1 de transmissão de qubits entre 3 e 8.\n",
      "2024-09-22 21:23:12,949: Timeslot 2: Buscando rota válida entre 3 e 8.\n",
      "2024-09-22 21:23:12,950: Rota válida encontrada: [3, 6, 7, 8]\n",
      "2024-09-22 21:23:12,950: Teletransporte de qubit de 3 para 8 na rota [3, 6, 7, 8] foi bem-sucedido com fidelidade final de 0.49061712008971947.\n",
      "2024-09-22 21:23:12,951: Timeslot 3: Buscando rota válida entre 3 e 8.\n",
      "2024-09-22 21:23:12,952: Rota válida encontrada: [3, 6, 7, 8]\n",
      "2024-09-22 21:23:12,952: Teletransporte de qubit de 3 para 8 na rota [3, 6, 7, 8] foi bem-sucedido com fidelidade final de 0.02218920544218021.\n",
      "2024-09-22 21:23:12,953: Timeslot 4: Buscando rota válida entre 3 e 8.\n",
      "2024-09-22 21:23:12,953: Rota válida encontrada: [3, 6, 7, 8]\n",
      "2024-09-22 21:23:12,954: Teletransporte de qubit de 3 para 8 na rota [3, 6, 7, 8] foi bem-sucedido com fidelidade final de 0.42685431057193285.\n",
      "2024-09-22 21:23:12,954: Timeslot 5: Buscando rota válida entre 3 e 8.\n",
      "2024-09-22 21:23:12,956: Rota válida encontrada: [3, 6, 7, 8]\n",
      "2024-09-22 21:23:12,957: Teletransporte de qubit de 3 para 8 na rota [3, 6, 7, 8] foi bem-sucedido com fidelidade final de 0.03280970433558625.\n",
      "2024-09-22 21:23:12,957: Timeslot 6: Buscando rota válida entre 3 e 8.\n",
      "2024-09-22 21:23:12,958: Rota válida encontrada: [3, 6, 7, 8]\n",
      "2024-09-22 21:23:12,958: Teletransporte de qubit de 3 para 8 na rota [3, 6, 7, 8] foi bem-sucedido com fidelidade final de 0.22869223939736166.\n",
      "2024-09-22 21:23:12,959: Timeslot 7: Buscando rota válida entre 3 e 8.\n",
      "2024-09-22 21:23:12,960: Rota válida encontrada: [3, 6, 7, 8]\n",
      "2024-09-22 21:23:12,960: Teletransporte de qubit de 3 para 8 na rota [3, 6, 7, 8] foi bem-sucedido com fidelidade final de 0.06400795400147472.\n",
      "2024-09-22 21:23:12,961: Timeslot 8: Buscando rota válida entre 3 e 8.\n",
      "2024-09-22 21:23:12,963: Rota válida encontrada: [3, 6, 7, 8]\n",
      "2024-09-22 21:23:12,963: Teletransporte de qubit de 3 para 8 na rota [3, 6, 7, 8] foi bem-sucedido com fidelidade final de 0.07112739710407065.\n",
      "2024-09-22 21:23:12,965: Timeslot 9: Buscando rota válida entre 3 e 8.\n",
      "2024-09-22 21:23:12,965: Rota válida encontrada: [3, 6, 7, 8]\n",
      "2024-09-22 21:23:12,966: Teletransporte de qubit de 3 para 8 na rota [3, 6, 7, 8] foi bem-sucedido com fidelidade final de 0.08528473170697735.\n",
      "2024-09-22 21:23:12,967: Timeslot 10: Buscando rota válida entre 3 e 8.\n",
      "2024-09-22 21:23:12,968: Rota válida encontrada: [3, 6, 7, 8]\n",
      "2024-09-22 21:23:12,968: Teletransporte de qubit de 3 para 8 na rota [3, 6, 7, 8] foi bem-sucedido com fidelidade final de 0.09453467013852265.\n",
      "2024-09-22 21:23:12,969: Timeslot 11: Buscando rota válida entre 3 e 8.\n",
      "2024-09-22 21:23:12,970: Rota válida encontrada: [3, 6, 7, 8]\n",
      "2024-09-22 21:23:12,970: Teletransporte de qubit de 3 para 8 na rota [3, 6, 7, 8] foi bem-sucedido com fidelidade final de 0.021032291750186723.\n",
      "2024-09-22 21:23:12,971: Transmissão e teletransporte de 10 qubits entre 3 e 8 concluídos com sucesso. Timeslot: 11\n",
      "2024-09-22 21:23:12,971: Timeslot incrementado após transmissão: 12\n",
      "2024-09-22 21:23:12,972: Timeslot incrementado na função apply_bases_and_measure_e91: 13\n",
      "2024-09-22 21:23:12,973: Resultados das medições: [0, 0, 1, 1, 0, 1, 0, 0, 1, 1] com bases: [1, 1, 0, 0, 1, 1, 1, 0, 0, 0]\n",
      "2024-09-22 21:23:12,973: Índices comuns: [0, 1, 4, 5, 7, 8, 9]\n",
      "2024-09-22 21:23:12,975: Chaves obtidas até agora: [0, 0, 1, 1]\n",
      "2024-09-22 21:23:12,975: Iniciando protocolo E91 com 2 qubits.\n",
      "2024-09-22 21:23:12,976: Timeslot incrementado na função prepare_e91_qubits: 14\n",
      "2024-09-22 21:23:12,977: Qubits preparados com a chave: [0, 1] e bases: [1, 0]\n",
      "2024-09-22 21:23:12,979: Número insuficiente de qubits na memória de Alice (Host 3). Criando mais 2 qubits para completar os 2 necessários.\n",
      "2024-09-22 21:23:12,980: Timeslot antes da criação do qubit: 15\n",
      "2024-09-22 21:23:12,980: Qubit 90 adicionado à memória do Host 3.\n",
      "2024-09-22 21:23:12,981: Qubit 90 criado com fidelidade inicial 0.7231805817536774 e adicionado à memória do Host 3.\n",
      "2024-09-22 21:23:12,981: Qubit criado para Alice (Host 3) no timeslot: 16\n",
      "2024-09-22 21:23:12,982: Timeslot antes da criação do qubit: 17\n",
      "2024-09-22 21:23:12,983: Qubit 91 adicionado à memória do Host 3.\n",
      "2024-09-22 21:23:12,983: Qubit 91 criado com fidelidade inicial 0.36593459495374503 e adicionado à memória do Host 3.\n",
      "2024-09-22 21:23:12,983: Qubit criado para Alice (Host 3) no timeslot: 18\n",
      "2024-09-22 21:23:12,985: Tentativa 1 de transmissão de qubits entre 3 e 8.\n",
      "2024-09-22 21:23:12,985: Timeslot 19: Buscando rota válida entre 3 e 8.\n",
      "2024-09-22 21:23:12,986: Rota válida encontrada: [3, 6, 7, 8]\n",
      "2024-09-22 21:23:12,987: Teletransporte de qubit de 3 para 8 na rota [3, 6, 7, 8] foi bem-sucedido com fidelidade final de 0.07121671939352377.\n",
      "2024-09-22 21:23:12,988: Timeslot 20: Buscando rota válida entre 3 e 8.\n",
      "2024-09-22 21:23:12,988: Rota válida encontrada: [3, 6, 7, 8]\n",
      "2024-09-22 21:23:12,989: Teletransporte de qubit de 3 para 8 na rota [3, 6, 7, 8] foi bem-sucedido com fidelidade final de 0.03603617412127942.\n",
      "2024-09-22 21:23:12,990: Transmissão e teletransporte de 2 qubits entre 3 e 8 concluídos com sucesso. Timeslot: 20\n",
      "2024-09-22 21:23:12,992: Timeslot incrementado após transmissão: 21\n",
      "2024-09-22 21:23:12,993: Timeslot incrementado na função apply_bases_and_measure_e91: 22\n",
      "2024-09-22 21:23:12,994: Resultados das medições: [1, 1] com bases: [0, 0]\n",
      "2024-09-22 21:23:12,995: Índices comuns: [1]\n",
      "2024-09-22 21:23:12,996: Chaves obtidas até agora: [0, 0, 1, 1, 1]\n",
      "2024-09-22 21:23:12,997: Protocolo E91 bem-sucedido. Chave final compartilhada: [0, 0, 1, 1, 1]\n"
     ]
    },
    {
     "data": {
      "text/plain": [
       "[0, 0, 1, 1, 1]"
      ]
     },
     "execution_count": 4,
     "metadata": {},
     "output_type": "execute_result"
    }
   ],
   "source": [
    "rede.application_layer.run_app(\"QKD_E91\",3,8,5)"
   ]
  },
  {
   "cell_type": "markdown",
   "metadata": {},
   "source": [
    "##### A função get_timeslot apresenta quantos timeslot se passaram durante a execução da camada."
   ]
  },
  {
   "cell_type": "code",
   "execution_count": 5,
   "metadata": {},
   "outputs": [
    {
     "data": {
      "text/plain": [
       "22"
      ]
     },
     "execution_count": 5,
     "metadata": {},
     "output_type": "execute_result"
    }
   ],
   "source": [
    "rede.get_timeslot()"
   ]
  },
  {
   "cell_type": "markdown",
   "metadata": {},
   "source": [
    "##### A função get_total_useds_qubits, será usada para mostrar quantos qubits foram usados na camada de Aplicação."
   ]
  },
  {
   "cell_type": "code",
   "execution_count": 6,
   "metadata": {},
   "outputs": [
    {
     "name": "stderr",
     "output_type": "stream",
     "text": [
      "2024-09-22 21:23:13,041: Qubits usados na camada PhysicalLayer: 2\n",
      "2024-09-22 21:23:13,042: Qubits usados na camada LinkLayer: 0\n",
      "2024-09-22 21:23:13,043: Qubits usados na camada TransportLayer: 12\n",
      "2024-09-22 21:23:13,045: Qubits usados na camada ApplicationLayer: 12\n"
     ]
    },
    {
     "data": {
      "text/plain": [
       "26"
      ]
     },
     "execution_count": 6,
     "metadata": {},
     "output_type": "execute_result"
    }
   ],
   "source": [
    "rede.get_total_useds_qubits()"
   ]
  },
  {
   "cell_type": "markdown",
   "metadata": {},
   "source": [
    "##### No avg_fidelity_on_ltransportlayer, é realizada o cálculo da média da fidelidade dos ERPs criados na camada de Aplicação."
   ]
  },
  {
   "cell_type": "code",
   "execution_count": 7,
   "metadata": {},
   "outputs": [
    {
     "name": "stdout",
     "output_type": "stream",
     "text": [
      "Qubit 0 foi criado no timeslot 0\n",
      "Qubit 1 foi criado no timeslot 0\n",
      "Qubit 2 foi criado no timeslot 0\n",
      "Qubit 3 foi criado no timeslot 0\n",
      "Qubit 4 foi criado no timeslot 0\n",
      "Qubit 5 foi criado no timeslot 0\n",
      "Qubit 6 foi criado no timeslot 0\n",
      "Qubit 7 foi criado no timeslot 0\n",
      "Qubit 8 foi criado no timeslot 0\n",
      "Qubit 9 foi criado no timeslot 0\n",
      "Qubit 10 foi criado no timeslot 0\n",
      "Qubit 11 foi criado no timeslot 0\n",
      "Qubit 12 foi criado no timeslot 0\n",
      "Qubit 13 foi criado no timeslot 0\n",
      "Qubit 14 foi criado no timeslot 0\n",
      "Qubit 15 foi criado no timeslot 0\n",
      "Qubit 16 foi criado no timeslot 0\n",
      "Qubit 17 foi criado no timeslot 0\n",
      "Qubit 18 foi criado no timeslot 0\n",
      "Qubit 19 foi criado no timeslot 0\n",
      "Qubit 20 foi criado no timeslot 0\n",
      "Qubit 21 foi criado no timeslot 0\n",
      "Qubit 22 foi criado no timeslot 0\n",
      "Qubit 23 foi criado no timeslot 0\n",
      "Qubit 24 foi criado no timeslot 0\n",
      "Qubit 25 foi criado no timeslot 0\n",
      "Qubit 26 foi criado no timeslot 0\n",
      "Qubit 27 foi criado no timeslot 0\n",
      "Qubit 28 foi criado no timeslot 0\n",
      "Qubit 29 foi criado no timeslot 0\n",
      "Qubit 30 foi criado no timeslot 0\n",
      "Qubit 31 foi criado no timeslot 0\n",
      "Qubit 32 foi criado no timeslot 0\n",
      "Qubit 33 foi criado no timeslot 0\n",
      "Qubit 34 foi criado no timeslot 0\n",
      "Qubit 35 foi criado no timeslot 0\n",
      "Qubit 36 foi criado no timeslot 0\n",
      "Qubit 37 foi criado no timeslot 0\n",
      "Qubit 38 foi criado no timeslot 0\n",
      "Qubit 39 foi criado no timeslot 0\n",
      "Qubit 40 foi criado no timeslot 0\n",
      "Qubit 41 foi criado no timeslot 0\n",
      "Qubit 42 foi criado no timeslot 0\n",
      "Qubit 43 foi criado no timeslot 0\n",
      "Qubit 44 foi criado no timeslot 0\n",
      "Qubit 45 foi criado no timeslot 0\n",
      "Qubit 46 foi criado no timeslot 0\n",
      "Qubit 47 foi criado no timeslot 0\n",
      "Qubit 48 foi criado no timeslot 0\n",
      "Qubit 49 foi criado no timeslot 0\n",
      "Qubit 50 foi criado no timeslot 0\n",
      "Qubit 51 foi criado no timeslot 0\n",
      "Qubit 52 foi criado no timeslot 0\n",
      "Qubit 53 foi criado no timeslot 0\n",
      "Qubit 54 foi criado no timeslot 0\n",
      "Qubit 55 foi criado no timeslot 0\n",
      "Qubit 56 foi criado no timeslot 0\n",
      "Qubit 57 foi criado no timeslot 0\n",
      "Qubit 58 foi criado no timeslot 0\n",
      "Qubit 59 foi criado no timeslot 0\n",
      "Qubit 60 foi criado no timeslot 0\n",
      "Qubit 61 foi criado no timeslot 0\n",
      "Qubit 62 foi criado no timeslot 0\n",
      "Qubit 63 foi criado no timeslot 0\n",
      "Qubit 64 foi criado no timeslot 0\n",
      "Qubit 65 foi criado no timeslot 0\n",
      "Qubit 66 foi criado no timeslot 0\n",
      "Qubit 67 foi criado no timeslot 0\n",
      "Qubit 68 foi criado no timeslot 0\n",
      "Qubit 69 foi criado no timeslot 0\n",
      "Qubit 70 foi criado no timeslot 0\n",
      "Qubit 71 foi criado no timeslot 0\n",
      "Qubit 72 foi criado no timeslot 0\n",
      "Qubit 73 foi criado no timeslot 0\n",
      "Qubit 74 foi criado no timeslot 0\n",
      "Qubit 75 foi criado no timeslot 0\n",
      "Qubit 76 foi criado no timeslot 0\n",
      "Qubit 77 foi criado no timeslot 0\n",
      "Qubit 78 foi criado no timeslot 0\n",
      "Qubit 79 foi criado no timeslot 0\n",
      "Qubit 80 foi criado no timeslot 0\n",
      "Qubit 81 foi criado no timeslot 0\n",
      "Qubit 82 foi criado no timeslot 0\n",
      "Qubit 83 foi criado no timeslot 0\n",
      "Qubit 84 foi criado no timeslot 0\n",
      "Qubit 85 foi criado no timeslot 0\n",
      "Qubit 86 foi criado no timeslot 0\n",
      "Qubit 87 foi criado no timeslot 0\n",
      "Qubit 88 foi criado no timeslot 0\n",
      "Qubit 89 foi criado no timeslot 0\n",
      "Qubit 90 foi criado no timeslot 16\n",
      "Qubit 91 foi criado no timeslot 18\n"
     ]
    }
   ],
   "source": [
    "rede.display_all_qubit_timeslots()"
   ]
  }
 ],
 "metadata": {
  "kernelspec": {
   "display_name": "Python 3",
   "language": "python",
   "name": "python3"
  },
  "language_info": {
   "codemirror_mode": {
    "name": "ipython",
    "version": 3
   },
   "file_extension": ".py",
   "mimetype": "text/x-python",
   "name": "python",
   "nbconvert_exporter": "python",
   "pygments_lexer": "ipython3",
   "version": "3.11.4"
  }
 },
 "nbformat": 4,
 "nbformat_minor": 2
}
